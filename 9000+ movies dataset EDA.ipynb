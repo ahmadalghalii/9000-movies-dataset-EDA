{
 "cells": [
  {
   "cell_type": "code",
   "execution_count": 1,
   "id": "698f3d7a",
   "metadata": {},
   "outputs": [],
   "source": [
    "# Import required libraries\n",
    "import pandas as pd\n",
    "import numpy as np\n",
    "import seaborn as sns\n",
    "import matplotlib.pyplot as plt\n",
    "import warnings\n",
    "from matplotlib import rcParams\n",
    "\n",
    "# Ignore warnings\n",
    "warnings.simplefilter('ignore')\n",
    "\n",
    "# Load the dataset\n",
    "df=pd.read_csv(\"mymoviedb.csv\",lineterminator='\\n')\n",
    "\n",
    "# Display the first five rows of the dataset\n",
    "df.head()\n",
    "\n",
    "\n",
    "# Set the size of the plot\n",
    "rcParams['figure.figsize'] = (16,6)\n",
    "\n",
    "# Set the line style for the plots\n",
    "sns.set_style('darkgrid')\n",
    "plt.style.use('ggplot')"
   ]
  },
  {
   "cell_type": "code",
   "execution_count": 2,
   "id": "d467b438",
   "metadata": {},
   "outputs": [
    {
     "name": "stdout",
     "output_type": "stream",
     "text": [
      "<class 'pandas.core.frame.DataFrame'>\n",
      "RangeIndex: 9827 entries, 0 to 9826\n",
      "Data columns (total 9 columns):\n",
      " #   Column             Non-Null Count  Dtype  \n",
      "---  ------             --------------  -----  \n",
      " 0   Release_Date       9827 non-null   object \n",
      " 1   Title              9827 non-null   object \n",
      " 2   Overview           9827 non-null   object \n",
      " 3   Popularity         9827 non-null   float64\n",
      " 4   Vote_Count         9827 non-null   int64  \n",
      " 5   Vote_Average       9827 non-null   float64\n",
      " 6   Original_Language  9827 non-null   object \n",
      " 7   Genre              9827 non-null   object \n",
      " 8   Poster_Url         9827 non-null   object \n",
      "dtypes: float64(2), int64(1), object(6)\n",
      "memory usage: 691.1+ KB\n"
     ]
    }
   ],
   "source": [
    "# Display the shape and information about the dataset\n",
    "df.info()"
   ]
  },
  {
   "cell_type": "code",
   "execution_count": 3,
   "id": "7102c938",
   "metadata": {},
   "outputs": [
    {
     "data": {
      "text/plain": [
       "0"
      ]
     },
     "execution_count": 3,
     "metadata": {},
     "output_type": "execute_result"
    }
   ],
   "source": [
    "# Check for duplicate rows\n",
    "df.duplicated().sum()"
   ]
  },
  {
   "cell_type": "code",
   "execution_count": 4,
   "id": "f78f655e",
   "metadata": {},
   "outputs": [],
   "source": [
    "# Convert the 'Release_Date' column to datetime format and extract the year and the month\n",
    "df[\"Release_Date\"]=pd.to_datetime(df[\"Release_Date\"],format='%Y-%m-%d')\n",
    "df[\"Year\"]=df[\"Release_Date\"].dt.strftime('%Y')\n",
    "df[\"Month\"]=df[\"Release_Date\"].dt.strftime('%m')"
   ]
  },
  {
   "cell_type": "code",
   "execution_count": 5,
   "id": "2aa30768",
   "metadata": {},
   "outputs": [],
   "source": [
    "#Drop 'Overview' and 'Poster_Url' columns\n",
    "df = df.drop(columns=['Overview','Poster_Url','Release_Date'])"
   ]
  },
  {
   "cell_type": "code",
   "execution_count": 6,
   "id": "4a853bb7",
   "metadata": {},
   "outputs": [
    {
     "data": {
      "text/plain": [
       "count    9827.000000\n",
       "mean       40.326088\n",
       "std       108.873998\n",
       "min        13.354000\n",
       "25%        16.128500\n",
       "50%        21.199000\n",
       "75%        35.191500\n",
       "max      5083.954000\n",
       "Name: Popularity, dtype: float64"
      ]
     },
     "execution_count": 6,
     "metadata": {},
     "output_type": "execute_result"
    }
   ],
   "source": [
    "# Describe the 'Popularity' column\n",
    "df[\"Popularity\"].describe()"
   ]
  },
  {
   "cell_type": "code",
   "execution_count": 7,
   "id": "084fa9d6",
   "metadata": {},
   "outputs": [
    {
     "data": {
      "text/html": [
       "<div>\n",
       "<style scoped>\n",
       "    .dataframe tbody tr th:only-of-type {\n",
       "        vertical-align: middle;\n",
       "    }\n",
       "\n",
       "    .dataframe tbody tr th {\n",
       "        vertical-align: top;\n",
       "    }\n",
       "\n",
       "    .dataframe thead th {\n",
       "        text-align: right;\n",
       "    }\n",
       "</style>\n",
       "<table border=\"1\" class=\"dataframe\">\n",
       "  <thead>\n",
       "    <tr style=\"text-align: right;\">\n",
       "      <th></th>\n",
       "      <th>Title</th>\n",
       "      <th>Popularity</th>\n",
       "      <th>Genre</th>\n",
       "    </tr>\n",
       "  </thead>\n",
       "  <tbody>\n",
       "    <tr>\n",
       "      <th>0</th>\n",
       "      <td>Spider-Man: No Way Home</td>\n",
       "      <td>5083.954</td>\n",
       "      <td>Action, Adventure, Science Fiction</td>\n",
       "    </tr>\n",
       "    <tr>\n",
       "      <th>1</th>\n",
       "      <td>The Batman</td>\n",
       "      <td>3827.658</td>\n",
       "      <td>Crime, Mystery, Thriller</td>\n",
       "    </tr>\n",
       "    <tr>\n",
       "      <th>2</th>\n",
       "      <td>No Exit</td>\n",
       "      <td>2618.087</td>\n",
       "      <td>Thriller</td>\n",
       "    </tr>\n",
       "    <tr>\n",
       "      <th>3</th>\n",
       "      <td>Encanto</td>\n",
       "      <td>2402.201</td>\n",
       "      <td>Animation, Comedy, Family, Fantasy</td>\n",
       "    </tr>\n",
       "    <tr>\n",
       "      <th>4</th>\n",
       "      <td>The King's Man</td>\n",
       "      <td>1895.511</td>\n",
       "      <td>Action, Adventure, Thriller, War</td>\n",
       "    </tr>\n",
       "    <tr>\n",
       "      <th>5</th>\n",
       "      <td>The Commando</td>\n",
       "      <td>1750.484</td>\n",
       "      <td>Action, Crime, Thriller</td>\n",
       "    </tr>\n",
       "    <tr>\n",
       "      <th>6</th>\n",
       "      <td>Scream</td>\n",
       "      <td>1675.161</td>\n",
       "      <td>Horror, Mystery, Thriller</td>\n",
       "    </tr>\n",
       "    <tr>\n",
       "      <th>7</th>\n",
       "      <td>Kimi</td>\n",
       "      <td>1601.782</td>\n",
       "      <td>Thriller</td>\n",
       "    </tr>\n",
       "    <tr>\n",
       "      <th>8</th>\n",
       "      <td>Fistful of Vengeance</td>\n",
       "      <td>1594.013</td>\n",
       "      <td>Action, Crime, Fantasy</td>\n",
       "    </tr>\n",
       "    <tr>\n",
       "      <th>9</th>\n",
       "      <td>Eternals</td>\n",
       "      <td>1537.406</td>\n",
       "      <td>Science Fiction</td>\n",
       "    </tr>\n",
       "  </tbody>\n",
       "</table>\n",
       "</div>"
      ],
      "text/plain": [
       "                     Title  Popularity                               Genre\n",
       "0  Spider-Man: No Way Home    5083.954  Action, Adventure, Science Fiction\n",
       "1               The Batman    3827.658            Crime, Mystery, Thriller\n",
       "2                  No Exit    2618.087                            Thriller\n",
       "3                  Encanto    2402.201  Animation, Comedy, Family, Fantasy\n",
       "4           The King's Man    1895.511    Action, Adventure, Thriller, War\n",
       "5             The Commando    1750.484             Action, Crime, Thriller\n",
       "6                   Scream    1675.161           Horror, Mystery, Thriller\n",
       "7                     Kimi    1601.782                            Thriller\n",
       "8     Fistful of Vengeance    1594.013              Action, Crime, Fantasy\n",
       "9                 Eternals    1537.406                     Science Fiction"
      ]
     },
     "execution_count": 7,
     "metadata": {},
     "output_type": "execute_result"
    }
   ],
   "source": [
    "# Select top 10 popular movies\n",
    "popular_movies=df.loc[df['Popularity'] >= 1501, ['Title', 'Popularity', 'Genre']]\n",
    "\n",
    "# Display the popular movies\n",
    "popular_movies"
   ]
  },
  {
   "cell_type": "code",
   "execution_count": 8,
   "id": "ca0c7d0b",
   "metadata": {},
   "outputs": [
    {
     "data": {
      "image/png": "[encoded data removed]",
      "text/plain": [
       "<Figure size 1152x432 with 1 Axes>"
      ]
     },
     "metadata": {},
     "output_type": "display_data"
    }
   ],
   "source": [
    "# Create a bar plot of popular movies\n",
    "sns.barplot(data=popular_movies,x='Popularity',y=\"Title\",palette = 'rocket')\n",
    "plt.show()"
   ]
  },
  {
   "cell_type": "code",
   "execution_count": 31,
   "id": "742f21cb",
   "metadata": {},
   "outputs": [
    {
     "data": {
      "text/html": [
       "<div>\n",
       "<style scoped>\n",
       "    .dataframe tbody tr th:only-of-type {\n",
       "        vertical-align: middle;\n",
       "    }\n",
       "\n",
       "    .dataframe tbody tr th {\n",
       "        vertical-align: top;\n",
       "    }\n",
       "\n",
       "    .dataframe thead th {\n",
       "        text-align: right;\n",
       "    }\n",
       "</style>\n",
       "<table border=\"1\" class=\"dataframe\">\n",
       "  <thead>\n",
       "    <tr style=\"text-align: right;\">\n",
       "      <th></th>\n",
       "      <th>Title</th>\n",
       "      <th>Popularity</th>\n",
       "      <th>Vote_Count</th>\n",
       "      <th>Vote_Average</th>\n",
       "      <th>Original_Language</th>\n",
       "      <th>Genre</th>\n",
       "      <th>Year</th>\n",
       "      <th>Month</th>\n",
       "    </tr>\n",
       "  </thead>\n",
       "  <tbody>\n",
       "    <tr>\n",
       "      <th>0</th>\n",
       "      <td>The Shawshank Redemption</td>\n",
       "      <td>87.669</td>\n",
       "      <td>20911</td>\n",
       "      <td>8.7</td>\n",
       "      <td>en</td>\n",
       "      <td>[Drama,  Crime]</td>\n",
       "      <td>1994</td>\n",
       "      <td>09</td>\n",
       "    </tr>\n",
       "    <tr>\n",
       "      <th>1</th>\n",
       "      <td>The Godfather</td>\n",
       "      <td>93.136</td>\n",
       "      <td>15614</td>\n",
       "      <td>8.7</td>\n",
       "      <td>en</td>\n",
       "      <td>[Drama,  Crime]</td>\n",
       "      <td>1972</td>\n",
       "      <td>03</td>\n",
       "    </tr>\n",
       "    <tr>\n",
       "      <th>2</th>\n",
       "      <td>Schindler's List</td>\n",
       "      <td>55.225</td>\n",
       "      <td>12474</td>\n",
       "      <td>8.6</td>\n",
       "      <td>en</td>\n",
       "      <td>[Drama,  History,  War]</td>\n",
       "      <td>1993</td>\n",
       "      <td>11</td>\n",
       "    </tr>\n",
       "    <tr>\n",
       "      <th>3</th>\n",
       "      <td>The Godfather: Part II</td>\n",
       "      <td>65.324</td>\n",
       "      <td>9393</td>\n",
       "      <td>8.6</td>\n",
       "      <td>en</td>\n",
       "      <td>[Drama,  Crime]</td>\n",
       "      <td>1974</td>\n",
       "      <td>12</td>\n",
       "    </tr>\n",
       "    <tr>\n",
       "      <th>4</th>\n",
       "      <td>The Dark Knight</td>\n",
       "      <td>173.923</td>\n",
       "      <td>26994</td>\n",
       "      <td>8.5</td>\n",
       "      <td>en</td>\n",
       "      <td>[Drama,  Action,  Crime,  Thriller]</td>\n",
       "      <td>2008</td>\n",
       "      <td>07</td>\n",
       "    </tr>\n",
       "    <tr>\n",
       "      <th>5</th>\n",
       "      <td>Pulp Fiction</td>\n",
       "      <td>55.352</td>\n",
       "      <td>22733</td>\n",
       "      <td>8.5</td>\n",
       "      <td>en</td>\n",
       "      <td>[Thriller,  Crime]</td>\n",
       "      <td>1994</td>\n",
       "      <td>09</td>\n",
       "    </tr>\n",
       "    <tr>\n",
       "      <th>6</th>\n",
       "      <td>Forrest Gump</td>\n",
       "      <td>62.636</td>\n",
       "      <td>22308</td>\n",
       "      <td>8.5</td>\n",
       "      <td>en</td>\n",
       "      <td>[Comedy,  Drama,  Romance]</td>\n",
       "      <td>1994</td>\n",
       "      <td>07</td>\n",
       "    </tr>\n",
       "    <tr>\n",
       "      <th>7</th>\n",
       "      <td>The Lord of the Rings: The Return of the King</td>\n",
       "      <td>118.609</td>\n",
       "      <td>19183</td>\n",
       "      <td>8.5</td>\n",
       "      <td>en</td>\n",
       "      <td>[Adventure,  Fantasy,  Action]</td>\n",
       "      <td>2003</td>\n",
       "      <td>12</td>\n",
       "    </tr>\n",
       "    <tr>\n",
       "      <th>8</th>\n",
       "      <td>The Green Mile</td>\n",
       "      <td>81.142</td>\n",
       "      <td>13604</td>\n",
       "      <td>8.5</td>\n",
       "      <td>en</td>\n",
       "      <td>[Fantasy,  Drama,  Crime]</td>\n",
       "      <td>1999</td>\n",
       "      <td>12</td>\n",
       "    </tr>\n",
       "    <tr>\n",
       "      <th>9</th>\n",
       "      <td>Parasite</td>\n",
       "      <td>108.442</td>\n",
       "      <td>13240</td>\n",
       "      <td>8.5</td>\n",
       "      <td>ko</td>\n",
       "      <td>[Comedy,  Thriller,  Drama]</td>\n",
       "      <td>2019</td>\n",
       "      <td>05</td>\n",
       "    </tr>\n",
       "    <tr>\n",
       "      <th>10</th>\n",
       "      <td>Spirited Away</td>\n",
       "      <td>104.215</td>\n",
       "      <td>12531</td>\n",
       "      <td>8.5</td>\n",
       "      <td>ja</td>\n",
       "      <td>[Animation,  Family,  Fantasy]</td>\n",
       "      <td>2001</td>\n",
       "      <td>07</td>\n",
       "    </tr>\n",
       "    <tr>\n",
       "      <th>11</th>\n",
       "      <td>Life Is Beautiful</td>\n",
       "      <td>60.184</td>\n",
       "      <td>10903</td>\n",
       "      <td>8.5</td>\n",
       "      <td>it</td>\n",
       "      <td>[Comedy,  Drama]</td>\n",
       "      <td>1997</td>\n",
       "      <td>12</td>\n",
       "    </tr>\n",
       "    <tr>\n",
       "      <th>12</th>\n",
       "      <td>GoodFellas</td>\n",
       "      <td>44.572</td>\n",
       "      <td>9860</td>\n",
       "      <td>8.5</td>\n",
       "      <td>en</td>\n",
       "      <td>[Drama,  Crime]</td>\n",
       "      <td>1990</td>\n",
       "      <td>09</td>\n",
       "    </tr>\n",
       "    <tr>\n",
       "      <th>13</th>\n",
       "      <td>Your Name.</td>\n",
       "      <td>155.483</td>\n",
       "      <td>8426</td>\n",
       "      <td>8.5</td>\n",
       "      <td>ja</td>\n",
       "      <td>[Romance,  Animation,  Drama]</td>\n",
       "      <td>2016</td>\n",
       "      <td>08</td>\n",
       "    </tr>\n",
       "    <tr>\n",
       "      <th>14</th>\n",
       "      <td>The Good, the Bad and the Ugly</td>\n",
       "      <td>45.733</td>\n",
       "      <td>6479</td>\n",
       "      <td>8.5</td>\n",
       "      <td>it</td>\n",
       "      <td>[Western]</td>\n",
       "      <td>1966</td>\n",
       "      <td>12</td>\n",
       "    </tr>\n",
       "    <tr>\n",
       "      <th>15</th>\n",
       "      <td>12 Angry Men</td>\n",
       "      <td>34.638</td>\n",
       "      <td>6227</td>\n",
       "      <td>8.5</td>\n",
       "      <td>en</td>\n",
       "      <td>[Drama]</td>\n",
       "      <td>1957</td>\n",
       "      <td>04</td>\n",
       "    </tr>\n",
       "    <tr>\n",
       "      <th>16</th>\n",
       "      <td>Inception</td>\n",
       "      <td>127.131</td>\n",
       "      <td>31077</td>\n",
       "      <td>8.4</td>\n",
       "      <td>en</td>\n",
       "      <td>[Action,  Science Fiction,  Adventure]</td>\n",
       "      <td>2010</td>\n",
       "      <td>07</td>\n",
       "    </tr>\n",
       "    <tr>\n",
       "      <th>17</th>\n",
       "      <td>Interstellar</td>\n",
       "      <td>110.531</td>\n",
       "      <td>27975</td>\n",
       "      <td>8.4</td>\n",
       "      <td>en</td>\n",
       "      <td>[Adventure,  Drama,  Science Fiction]</td>\n",
       "      <td>2014</td>\n",
       "      <td>11</td>\n",
       "    </tr>\n",
       "    <tr>\n",
       "      <th>18</th>\n",
       "      <td>Fight Club</td>\n",
       "      <td>121.653</td>\n",
       "      <td>23620</td>\n",
       "      <td>8.4</td>\n",
       "      <td>en</td>\n",
       "      <td>[Drama]</td>\n",
       "      <td>1999</td>\n",
       "      <td>10</td>\n",
       "    </tr>\n",
       "    <tr>\n",
       "      <th>19</th>\n",
       "      <td>The Lord of the Rings: The Fellowship of the Ring</td>\n",
       "      <td>129.852</td>\n",
       "      <td>20602</td>\n",
       "      <td>8.4</td>\n",
       "      <td>en</td>\n",
       "      <td>[Adventure,  Fantasy,  Action]</td>\n",
       "      <td>2001</td>\n",
       "      <td>12</td>\n",
       "    </tr>\n",
       "  </tbody>\n",
       "</table>\n",
       "</div>"
      ],
      "text/plain": [
       "                                                Title  Popularity  Vote_Count  \\\n",
       "0                            The Shawshank Redemption      87.669       20911   \n",
       "1                                       The Godfather      93.136       15614   \n",
       "2                                    Schindler's List      55.225       12474   \n",
       "3                              The Godfather: Part II      65.324        9393   \n",
       "4                                     The Dark Knight     173.923       26994   \n",
       "5                                        Pulp Fiction      55.352       22733   \n",
       "6                                        Forrest Gump      62.636       22308   \n",
       "7       The Lord of the Rings: The Return of the King     118.609       19183   \n",
       "8                                      The Green Mile      81.142       13604   \n",
       "9                                            Parasite     108.442       13240   \n",
       "10                                      Spirited Away     104.215       12531   \n",
       "11                                  Life Is Beautiful      60.184       10903   \n",
       "12                                         GoodFellas      44.572        9860   \n",
       "13                                         Your Name.     155.483        8426   \n",
       "14                     The Good, the Bad and the Ugly      45.733        6479   \n",
       "15                                       12 Angry Men      34.638        6227   \n",
       "16                                          Inception     127.131       31077   \n",
       "17                                       Interstellar     110.531       27975   \n",
       "18                                         Fight Club     121.653       23620   \n",
       "19  The Lord of the Rings: The Fellowship of the Ring     129.852       20602   \n",
       "\n",
       "    Vote_Average Original_Language                                   Genre  \\\n",
       "0            8.7                en                         [Drama,  Crime]   \n",
       "1            8.7                en                         [Drama,  Crime]   \n",
       "2            8.6                en                 [Drama,  History,  War]   \n",
       "3            8.6                en                         [Drama,  Crime]   \n",
       "4            8.5                en     [Drama,  Action,  Crime,  Thriller]   \n",
       "5            8.5                en                      [Thriller,  Crime]   \n",
       "6            8.5                en              [Comedy,  Drama,  Romance]   \n",
       "7            8.5                en          [Adventure,  Fantasy,  Action]   \n",
       "8            8.5                en               [Fantasy,  Drama,  Crime]   \n",
       "9            8.5                ko             [Comedy,  Thriller,  Drama]   \n",
       "10           8.5                ja          [Animation,  Family,  Fantasy]   \n",
       "11           8.5                it                        [Comedy,  Drama]   \n",
       "12           8.5                en                         [Drama,  Crime]   \n",
       "13           8.5                ja           [Romance,  Animation,  Drama]   \n",
       "14           8.5                it                               [Western]   \n",
       "15           8.5                en                                 [Drama]   \n",
       "16           8.4                en  [Action,  Science Fiction,  Adventure]   \n",
       "17           8.4                en   [Adventure,  Drama,  Science Fiction]   \n",
       "18           8.4                en                                 [Drama]   \n",
       "19           8.4                en          [Adventure,  Fantasy,  Action]   \n",
       "\n",
       "    Year Month  \n",
       "0   1994    09  \n",
       "1   1972    03  \n",
       "2   1993    11  \n",
       "3   1974    12  \n",
       "4   2008    07  \n",
       "5   1994    09  \n",
       "6   1994    07  \n",
       "7   2003    12  \n",
       "8   1999    12  \n",
       "9   2019    05  \n",
       "10  2001    07  \n",
       "11  1997    12  \n",
       "12  1990    09  \n",
       "13  2016    08  \n",
       "14  1966    12  \n",
       "15  1957    04  \n",
       "16  2010    07  \n",
       "17  2014    11  \n",
       "18  1999    10  \n",
       "19  2001    12  "
      ]
     },
     "execution_count": 31,
     "metadata": {},
     "output_type": "execute_result"
    }
   ],
   "source": [
    "most_voted_movies = df[(df['Vote_Count'] >= 1000) & (df['Popularity'] >= 30)]\n",
    "#Get the top rated movies that have popularity and actual votes\n",
    "top_rated_movies = most_voted_movies.sort_values(['Vote_Average',  'Vote_Count','Popularity'], ascending=[False, False, False]).head(20)\n",
    "top_rated_movies=top_rated_movies.reset_index(drop=True)\n",
    "top_rated_movies"
   ]
  },
  {
   "cell_type": "code",
   "execution_count": 32,
   "id": "1b771b8c",
   "metadata": {},
   "outputs": [
    {
     "data": {
      "image/png": "[encoded data removed]",
      "text/plain": [
       "<Figure size 1152x432 with 1 Axes>"
      ]
     },
     "metadata": {},
     "output_type": "display_data"
    }
   ],
   "source": [
    "#plot the most popular top rated movies \n",
    "sns.barplot(data=top_rated_movies,y='Title',x=\"Vote_Average\" ,palette = 'rocket')\n",
    "plt.show()"
   ]
  },
  {
   "cell_type": "code",
   "execution_count": 30,
   "id": "5e1a8169",
   "metadata": {},
   "outputs": [
    {
     "data": {
      "text/plain": [
       "en    7570\n",
       "ja     645\n",
       "es     339\n",
       "fr     292\n",
       "ko     170\n",
       "zh     129\n",
       "it     123\n",
       "cn     109\n",
       "ru      83\n",
       "de      82\n",
       "Name: Original_Language, dtype: int64"
      ]
     },
     "execution_count": 30,
     "metadata": {},
     "output_type": "execute_result"
    }
   ],
   "source": [
    "#Most used languges in movies\n",
    "language = df['Original_Language'].value_counts().sort_values(ascending=False)\n",
    "language.head(10)"
   ]
  },
  {
   "cell_type": "code",
   "execution_count": 12,
   "id": "aa63ce2c",
   "metadata": {},
   "outputs": [
    {
     "data": {
      "image/png": "[encoded data removed]",
      "text/plain": [
       "<Figure size 1152x432 with 1 Axes>"
      ]
     },
     "metadata": {},
     "output_type": "display_data"
    }
   ],
   "source": [
    "#plot original language vs number of movies \n",
    "plt.bar(language.index[0:9], language.values[0:9])\n",
    "plt.xticks(rotation=90)\n",
    "plt.title('Original language of movies')\n",
    "plt.xlabel('Language')\n",
    "plt.ylabel('Numper of movies')\n",
    "plt.show()"
   ]
  },
  {
   "cell_type": "code",
   "execution_count": 13,
   "id": "0820ce8d",
   "metadata": {},
   "outputs": [
    {
     "data": {
      "text/plain": [
       "2021    714\n",
       "2018    530\n",
       "2017    510\n",
       "2019    500\n",
       "2016    470\n",
       "       ... \n",
       "1902      1\n",
       "1920      1\n",
       "2024      1\n",
       "1929      1\n",
       "1930      1\n",
       "Name: Year, Length: 102, dtype: int64"
      ]
     },
     "execution_count": 13,
     "metadata": {},
     "output_type": "execute_result"
    }
   ],
   "source": [
    "# Count the number of movies released in each year\n",
    "df[\"Year\"].value_counts()"
   ]
  },
  {
   "cell_type": "code",
   "execution_count": 14,
   "id": "563dec1d",
   "metadata": {},
   "outputs": [
    {
     "data": {
      "text/plain": [
       "<AxesSubplot:>"
      ]
     },
     "execution_count": 14,
     "metadata": {},
     "output_type": "execute_result"
    },
    {
     "data": {
      "image/png": "[encoded data removed]",
      "text/plain": [
       "<Figure size 1152x432 with 1 Axes>"
      ]
     },
     "metadata": {},
     "output_type": "display_data"
    }
   ],
   "source": [
    "# Create a bar plot of the top 10 release dates by count\n",
    "df[\"Year\"].value_counts().head(10).plot(kind='bar')"
   ]
  },
  {
   "cell_type": "code",
   "execution_count": 15,
   "id": "10a007f2",
   "metadata": {},
   "outputs": [
    {
     "data": {
      "text/plain": [
       "10    1024\n",
       "09     993\n",
       "12     927\n",
       "08     885\n",
       "03     868\n",
       "07     802\n",
       "11     789\n",
       "02     788\n",
       "06     768\n",
       "04     669\n",
       "05     665\n",
       "01     649\n",
       "Name: Month, dtype: int64"
      ]
     },
     "execution_count": 15,
     "metadata": {},
     "output_type": "execute_result"
    }
   ],
   "source": [
    "# Count the number of movies released in each month\n",
    "df[\"Month\"].value_counts()"
   ]
  },
  {
   "cell_type": "code",
   "execution_count": 16,
   "id": "459a4b7b",
   "metadata": {},
   "outputs": [
    {
     "data": {
      "text/plain": [
       "<AxesSubplot:>"
      ]
     },
     "execution_count": 16,
     "metadata": {},
     "output_type": "execute_result"
    },
    {
     "data": {
      "image/png": "[encoded data removed]",
      "text/plain": [
       "<Figure size 1152x432 with 1 Axes>"
      ]
     },
     "metadata": {},
     "output_type": "display_data"
    }
   ],
   "source": [
    "# Create a bar plot (no.filmsreleased vs month)\n",
    "df[\"Month\"].value_counts().plot(kind='bar')"
   ]
  },
  {
   "cell_type": "code",
   "execution_count": 17,
   "id": "962ba174",
   "metadata": {},
   "outputs": [
    {
     "data": {
      "text/html": [
       "<div>\n",
       "<style scoped>\n",
       "    .dataframe tbody tr th:only-of-type {\n",
       "        vertical-align: middle;\n",
       "    }\n",
       "\n",
       "    .dataframe tbody tr th {\n",
       "        vertical-align: top;\n",
       "    }\n",
       "\n",
       "    .dataframe thead th {\n",
       "        text-align: right;\n",
       "    }\n",
       "</style>\n",
       "<table border=\"1\" class=\"dataframe\">\n",
       "  <thead>\n",
       "    <tr style=\"text-align: right;\">\n",
       "      <th></th>\n",
       "      <th>Genre</th>\n",
       "      <th>Count</th>\n",
       "    </tr>\n",
       "  </thead>\n",
       "  <tbody>\n",
       "    <tr>\n",
       "      <th>0</th>\n",
       "      <td>Drama</td>\n",
       "      <td>3744</td>\n",
       "    </tr>\n",
       "    <tr>\n",
       "      <th>1</th>\n",
       "      <td>Comedy</td>\n",
       "      <td>3031</td>\n",
       "    </tr>\n",
       "    <tr>\n",
       "      <th>2</th>\n",
       "      <td>Action</td>\n",
       "      <td>2686</td>\n",
       "    </tr>\n",
       "    <tr>\n",
       "      <th>3</th>\n",
       "      <td>Thriller</td>\n",
       "      <td>2488</td>\n",
       "    </tr>\n",
       "    <tr>\n",
       "      <th>4</th>\n",
       "      <td>Adventure</td>\n",
       "      <td>1853</td>\n",
       "    </tr>\n",
       "    <tr>\n",
       "      <th>5</th>\n",
       "      <td>Romance</td>\n",
       "      <td>1476</td>\n",
       "    </tr>\n",
       "    <tr>\n",
       "      <th>6</th>\n",
       "      <td>Horror</td>\n",
       "      <td>1470</td>\n",
       "    </tr>\n",
       "    <tr>\n",
       "      <th>7</th>\n",
       "      <td>Animation</td>\n",
       "      <td>1439</td>\n",
       "    </tr>\n",
       "    <tr>\n",
       "      <th>8</th>\n",
       "      <td>Family</td>\n",
       "      <td>1414</td>\n",
       "    </tr>\n",
       "    <tr>\n",
       "      <th>9</th>\n",
       "      <td>Fantasy</td>\n",
       "      <td>1308</td>\n",
       "    </tr>\n",
       "    <tr>\n",
       "      <th>10</th>\n",
       "      <td>Science Fiction</td>\n",
       "      <td>1273</td>\n",
       "    </tr>\n",
       "    <tr>\n",
       "      <th>11</th>\n",
       "      <td>Crime</td>\n",
       "      <td>1242</td>\n",
       "    </tr>\n",
       "    <tr>\n",
       "      <th>12</th>\n",
       "      <td>Mystery</td>\n",
       "      <td>773</td>\n",
       "    </tr>\n",
       "    <tr>\n",
       "      <th>13</th>\n",
       "      <td>History</td>\n",
       "      <td>427</td>\n",
       "    </tr>\n",
       "    <tr>\n",
       "      <th>14</th>\n",
       "      <td>War</td>\n",
       "      <td>308</td>\n",
       "    </tr>\n",
       "    <tr>\n",
       "      <th>15</th>\n",
       "      <td>Music</td>\n",
       "      <td>295</td>\n",
       "    </tr>\n",
       "    <tr>\n",
       "      <th>16</th>\n",
       "      <td>Documentary</td>\n",
       "      <td>215</td>\n",
       "    </tr>\n",
       "    <tr>\n",
       "      <th>17</th>\n",
       "      <td>TV Movie</td>\n",
       "      <td>214</td>\n",
       "    </tr>\n",
       "    <tr>\n",
       "      <th>18</th>\n",
       "      <td>Western</td>\n",
       "      <td>137</td>\n",
       "    </tr>\n",
       "  </tbody>\n",
       "</table>\n",
       "</div>"
      ],
      "text/plain": [
       "              Genre  Count\n",
       "0             Drama   3744\n",
       "1            Comedy   3031\n",
       "2            Action   2686\n",
       "3          Thriller   2488\n",
       "4         Adventure   1853\n",
       "5           Romance   1476\n",
       "6            Horror   1470\n",
       "7         Animation   1439\n",
       "8            Family   1414\n",
       "9           Fantasy   1308\n",
       "10  Science Fiction   1273\n",
       "11            Crime   1242\n",
       "12          Mystery    773\n",
       "13          History    427\n",
       "14              War    308\n",
       "15            Music    295\n",
       "16      Documentary    215\n",
       "17         TV Movie    214\n",
       "18          Western    137"
      ]
     },
     "execution_count": 17,
     "metadata": {},
     "output_type": "execute_result"
    }
   ],
   "source": [
    "# Split the 'Genre' column into separate genres and create a new row for each genre\n",
    "df['Genre']=df['Genre'].apply(lambda x:x.split(','))\n",
    "Genre_df = df.explode('Genre')\n",
    "\n",
    "# Strip leading and trailing spaces from the 'Genre' column\n",
    "Genre_df['Genre'] = Genre_df['Genre'].str.strip()\n",
    "\n",
    "# Count the number of movies in each genre\n",
    "Genre_conts=Genre_df['Genre'].value_counts()\n",
    "\n",
    "# Create a DataFrame of genre counts\n",
    "Genre_conts_df = pd.DataFrame({'Genre':Genre_conts.index,'Count':Genre_conts.values})\n",
    "\n",
    "# Display the genre counts\n",
    "Genre_conts_df"
   ]
  },
  {
   "cell_type": "code",
   "execution_count": 18,
   "id": "04d9580b",
   "metadata": {},
   "outputs": [
    {
     "data": {
      "image/png": "[encoded data removed]",
      "text/plain": [
       "<Figure size 1152x432 with 1 Axes>"
      ]
     },
     "metadata": {},
     "output_type": "display_data"
    }
   ],
   "source": [
    "# Create a bar plot of movie counts by genre\n",
    "sns.barplot(data=Genre_conts_df,x='Count',y=\"Genre\",palette = \"rocket\")\n",
    "plt.show()"
   ]
  },
  {
   "cell_type": "code",
   "execution_count": 19,
   "id": "deb8c74f",
   "metadata": {},
   "outputs": [
    {
     "data": {
      "text/plain": [
       "Genre\n",
       "History            6.965574\n",
       "War                6.948701\n",
       "Music              6.879322\n",
       "Animation          6.846560\n",
       "Western            6.754745\n",
       "Drama              6.706143\n",
       "Documentary        6.663721\n",
       "Family             6.581047\n",
       "Romance            6.560772\n",
       "Crime              6.552013\n",
       "Fantasy            6.526300\n",
       "Adventure          6.456719\n",
       "TV Movie           6.438318\n",
       "Mystery            6.434282\n",
       "Comedy             6.382976\n",
       "Action             6.330268\n",
       "Science Fiction    6.257423\n",
       "Thriller           6.246141\n",
       "Horror             5.940068\n",
       "Name: Vote_Average, dtype: float64"
      ]
     },
     "execution_count": 19,
     "metadata": {},
     "output_type": "execute_result"
    }
   ],
   "source": [
    "# Calculate the average rating for each genre\n",
    "genre_averages = Genre_df.groupby('Genre').Vote_Average.mean().sort_values(ascending=False)\n",
    "\n",
    "# Display the average ratings for each genre\n",
    "genre_averages"
   ]
  },
  {
   "cell_type": "code",
   "execution_count": 20,
   "id": "001e7e3f",
   "metadata": {},
   "outputs": [
    {
     "data": {
      "image/png": "[encoded data removed]",
      "text/plain": [
       "<Figure size 1152x432 with 1 Axes>"
      ]
     },
     "metadata": {},
     "output_type": "display_data"
    }
   ],
   "source": [
    "# Create a bar plot of genre ratings\n",
    "plt.bar(genre_averages.index, genre_averages.values)\n",
    "plt.xticks(rotation=90)\n",
    "plt.title('Average Movie Rating by Genre')\n",
    "plt.xlabel('Genre')\n",
    "plt.ylabel('Average Rating')\n",
    "plt.show()"
   ]
  },
  {
   "cell_type": "code",
   "execution_count": 21,
   "id": "81dffa32",
   "metadata": {},
   "outputs": [
    {
     "data": {
      "text/html": [
       "<div>\n",
       "<style scoped>\n",
       "    .dataframe tbody tr th:only-of-type {\n",
       "        vertical-align: middle;\n",
       "    }\n",
       "\n",
       "    .dataframe tbody tr th {\n",
       "        vertical-align: top;\n",
       "    }\n",
       "\n",
       "    .dataframe thead th {\n",
       "        text-align: right;\n",
       "    }\n",
       "</style>\n",
       "<table border=\"1\" class=\"dataframe\">\n",
       "  <thead>\n",
       "    <tr style=\"text-align: right;\">\n",
       "      <th></th>\n",
       "      <th>Title</th>\n",
       "      <th>Popularity</th>\n",
       "      <th>Genre</th>\n",
       "    </tr>\n",
       "  </thead>\n",
       "  <tbody>\n",
       "    <tr>\n",
       "      <th>9825</th>\n",
       "      <td>The United States vs. Billie Holiday</td>\n",
       "      <td>13.354</td>\n",
       "      <td>[Music,  Drama,  History]</td>\n",
       "    </tr>\n",
       "    <tr>\n",
       "      <th>9826</th>\n",
       "      <td>Threads</td>\n",
       "      <td>13.354</td>\n",
       "      <td>[War,  Drama,  Science Fiction]</td>\n",
       "    </tr>\n",
       "    <tr>\n",
       "      <th>9824</th>\n",
       "      <td>The Offering</td>\n",
       "      <td>13.355</td>\n",
       "      <td>[Mystery,  Thriller,  Horror]</td>\n",
       "    </tr>\n",
       "    <tr>\n",
       "      <th>9823</th>\n",
       "      <td>Violent Delights</td>\n",
       "      <td>13.356</td>\n",
       "      <td>[Horror]</td>\n",
       "    </tr>\n",
       "    <tr>\n",
       "      <th>9821</th>\n",
       "      <td>The Little Prince</td>\n",
       "      <td>13.357</td>\n",
       "      <td>[Science Fiction,  Fantasy,  Family,  Music]</td>\n",
       "    </tr>\n",
       "    <tr>\n",
       "      <th>9822</th>\n",
       "      <td>Badlands</td>\n",
       "      <td>13.357</td>\n",
       "      <td>[Drama,  Crime]</td>\n",
       "    </tr>\n",
       "    <tr>\n",
       "      <th>9820</th>\n",
       "      <td>Unlawful Entry</td>\n",
       "      <td>13.358</td>\n",
       "      <td>[Crime,  Thriller,  Mystery]</td>\n",
       "    </tr>\n",
       "    <tr>\n",
       "      <th>9818</th>\n",
       "      <td>All Is Lost</td>\n",
       "      <td>13.359</td>\n",
       "      <td>[Action,  Adventure,  Drama]</td>\n",
       "    </tr>\n",
       "    <tr>\n",
       "      <th>9819</th>\n",
       "      <td>Amateur Porn Star Killer 2</td>\n",
       "      <td>13.359</td>\n",
       "      <td>[Crime,  Horror]</td>\n",
       "    </tr>\n",
       "    <tr>\n",
       "      <th>9817</th>\n",
       "      <td>I'm in Love With My Little Sister</td>\n",
       "      <td>13.360</td>\n",
       "      <td>[Romance,  Animation,  Drama]</td>\n",
       "    </tr>\n",
       "  </tbody>\n",
       "</table>\n",
       "</div>"
      ],
      "text/plain": [
       "                                     Title  Popularity  \\\n",
       "9825  The United States vs. Billie Holiday      13.354   \n",
       "9826                               Threads      13.354   \n",
       "9824                          The Offering      13.355   \n",
       "9823                      Violent Delights      13.356   \n",
       "9821                     The Little Prince      13.357   \n",
       "9822                              Badlands      13.357   \n",
       "9820                        Unlawful Entry      13.358   \n",
       "9818                           All Is Lost      13.359   \n",
       "9819            Amateur Porn Star Killer 2      13.359   \n",
       "9817     I'm in Love With My Little Sister      13.360   \n",
       "\n",
       "                                             Genre  \n",
       "9825                     [Music,  Drama,  History]  \n",
       "9826               [War,  Drama,  Science Fiction]  \n",
       "9824                 [Mystery,  Thriller,  Horror]  \n",
       "9823                                      [Horror]  \n",
       "9821  [Science Fiction,  Fantasy,  Family,  Music]  \n",
       "9822                               [Drama,  Crime]  \n",
       "9820                  [Crime,  Thriller,  Mystery]  \n",
       "9818                  [Action,  Adventure,  Drama]  \n",
       "9819                              [Crime,  Horror]  \n",
       "9817                 [Romance,  Animation,  Drama]  "
      ]
     },
     "execution_count": 21,
     "metadata": {},
     "output_type": "execute_result"
    }
   ],
   "source": [
    "# Select movies with a popularity score of 13.36 or lower\n",
    "less_popular_movies=df.loc[df['Popularity'] <= 13.36, ['Title', 'Popularity', 'Genre']]\n",
    "\n",
    "# Sort the less popular movies by popularity score in ascending order\n",
    "less_popular_movies = less_popular_movies.sort_values(by=['Popularity'])\n",
    "\n",
    "# Display the less popular movies\n",
    "less_popular_movies"
   ]
  },
  {
   "cell_type": "code",
   "execution_count": 22,
   "id": "4f43e788",
   "metadata": {},
   "outputs": [
    {
     "data": {
      "image/png": "[encoded data removed]",
      "text/plain": [
       "<Figure size 1152x432 with 1 Axes>"
      ]
     },
     "metadata": {},
     "output_type": "display_data"
    }
   ],
   "source": [
    "# Create a bar plot of less popular movies by title and popularity score\n",
    "sns.barplot(data=less_popular_movies,x='Popularity',y=\"Title\",palette = 'rocket')\n",
    "plt.show()"
   ]
  },
  {
   "cell_type": "markdown",
   "id": "ed2138e8",
   "metadata": {},
   "source": [
    "# ANSWER OF THE QUESTIONS"
   ]
  },
  {
   "cell_type": "markdown",
   "id": "22406c76",
   "metadata": {},
   "source": [
    "What is the movie with the highest Popularity rate? And what kind is it?"
   ]
  },
  {
   "cell_type": "code",
   "execution_count": 23,
   "id": "12f48ae4",
   "metadata": {},
   "outputs": [
    {
     "name": "stdout",
     "output_type": "stream",
     "text": [
      "The movie with the highest popularity rate is: Spider-Man: No Way Home\n",
      "The genre of the movie is: Action, Adventure, Science Fiction\n"
     ]
    }
   ],
   "source": [
    "print(\"The movie with the highest popularity rate is:\", popular_movies['Title'][0])\n",
    "print(\"The genre of the movie is:\", popular_movies['Genre'][0])"
   ]
  },
  {
   "cell_type": "markdown",
   "id": "beb957d9",
   "metadata": {},
   "source": [
    "What year was the largest number of films produced?"
   ]
  },
  {
   "cell_type": "code",
   "execution_count": 24,
   "id": "60685aba",
   "metadata": {},
   "outputs": [
    {
     "name": "stdout",
     "output_type": "stream",
     "text": [
      "The year with the largest film production is: 2021\n"
     ]
    }
   ],
   "source": [
    "print(\"The year with the largest film production is:\", df[\"Year\"].value_counts().index[0])"
   ]
  },
  {
   "cell_type": "markdown",
   "id": "06ed1800",
   "metadata": {},
   "source": [
    "What is most of the film genre?"
   ]
  },
  {
   "cell_type": "code",
   "execution_count": 25,
   "id": "e05ea0c4",
   "metadata": {},
   "outputs": [
    {
     "name": "stdout",
     "output_type": "stream",
     "text": [
      "The most genre of films is: Drama\n"
     ]
    }
   ],
   "source": [
    "print(\"The most genre of films is:\", Genre_conts_df['Genre'][0])"
   ]
  },
  {
   "cell_type": "markdown",
   "id": "26fcfa84",
   "metadata": {},
   "source": [
    "What kind of movies take the highest rating?"
   ]
  },
  {
   "cell_type": "code",
   "execution_count": 26,
   "id": "ef000220",
   "metadata": {},
   "outputs": [
    {
     "name": "stdout",
     "output_type": "stream",
     "text": [
      "The movie genre with the hiest rate is: History\n"
     ]
    }
   ],
   "source": [
    "print(\"The movie genre with the hiest rate is:\", genre_averages.index[0])"
   ]
  },
  {
   "cell_type": "markdown",
   "id": "f758fe1d",
   "metadata": {},
   "source": [
    "Which movie is more popular? Which movie is less popular"
   ]
  },
  {
   "cell_type": "code",
   "execution_count": 27,
   "id": "f6888fb7",
   "metadata": {},
   "outputs": [
    {
     "name": "stdout",
     "output_type": "stream",
     "text": [
      "The movie with the highest popularity rate is: Spider-Man: No Way Home\n",
      "The movie with the worst popularity rate are: The United States vs. Billie Holiday AND Threads\n"
     ]
    }
   ],
   "source": [
    "print(\"The movie with the highest popularity rate is:\", popular_movies['Title'][0])\n",
    "print(\"The movie with the worst popularity rate are:\", less_popular_movies['Title'][9825],'AND',less_popular_movies['Title'][9826])"
   ]
  },
  {
   "cell_type": "code",
   "execution_count": null,
   "id": "d1cc2c77",
   "metadata": {},
   "outputs": [],
   "source": []
  }
 ],
 "metadata": {
  "kernelspec": {
   "display_name": "Python 3 (ipykernel)",
   "language": "python",
   "name": "python3"
  },
  "language_info": {
   "codemirror_mode": {
    "name": "ipython",
    "version": 3
   },
   "file_extension": ".py",
   "mimetype": "text/x-python",
   "name": "python",
   "nbconvert_exporter": "python",
   "pygments_lexer": "ipython3",
   "version": "3.9.12"
  }
 },
 "nbformat": 4,
 "nbformat_minor": 5
}
